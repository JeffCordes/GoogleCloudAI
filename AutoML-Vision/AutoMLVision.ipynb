{
 "cells": [
  {
   "cell_type": "code",
   "execution_count": 1,
   "metadata": {},
   "outputs": [],
   "source": [
    "import os\n",
    "# Update this to point to your IAM json file\n",
    "os.environ[\"GOOGLE_APPLICATION_CREDENTIALS\"] = \"../Creds/cloudaiguild-88fff7598286.json\""
   ]
  },
  {
   "cell_type": "code",
   "execution_count": 2,
   "metadata": {},
   "outputs": [],
   "source": [
    "%%bash \n",
    "gcloud services enable automl.googleapis.com"
   ]
  },
  {
   "cell_type": "markdown",
   "metadata": {},
   "source": [
    "### You can now go to the Auto ML console\n",
    "\n",
    "To import, label and train and publish your model.\n",
    "\n",
    "You can also do the importing, training and publishing through the API.\n",
    "\n",
    "See https://cloud.google.com/vision/automl/object-detection/docs/train"
   ]
  },
  {
   "cell_type": "markdown",
   "metadata": {},
   "source": [
    "### Inference on our trained model"
   ]
  },
  {
   "cell_type": "code",
   "execution_count": 2,
   "metadata": {},
   "outputs": [
    {
     "name": "stdout",
     "output_type": "stream",
     "text": [
      "{\n",
      "  \"payload\": [\n",
      "    {\n",
      "      \"annotationSpecId\": \"8828525316692508672\",\n",
      "      \"imageObjectDetection\": {\n",
      "        \"boundingBox\": {\n",
      "          \"normalizedVertices\": [\n",
      "            {\n",
      "              \"x\": 0.091175795,\n",
      "              \"y\": 0.28061756\n",
      "            },\n",
      "            {\n",
      "              \"x\": 0.47974336,\n",
      "              \"y\": 0.8778374\n",
      "            }\n",
      "          ]\n",
      "        },\n",
      "        \"score\": 0.9955585\n",
      "      },\n",
      "      \"displayName\": \"Border\"\n",
      "    },\n",
      "    {\n",
      "      \"annotationSpecId\": \"8828525316692508672\",\n",
      "      \"imageObjectDetection\": {\n",
      "        \"boundingBox\": {\n",
      "          \"normalizedVertices\": [\n",
      "            {\n",
      "              \"x\": 0.49995875,\n",
      "              \"y\": 0.22729754\n",
      "            },\n",
      "            {\n",
      "              \"x\": 0.906018,\n",
      "              \"y\": 0.96753955\n",
      "            }\n",
      "          ]\n",
      "        },\n",
      "        \"score\": 0.96146023\n",
      "      },\n",
      "      \"displayName\": \"Border\"\n",
      "    }\n",
      "  ]\n",
      "}\n"
     ]
    },
    {
     "name": "stderr",
     "output_type": "stream",
     "text": [
      "  % Total    % Received % Xferd  Average Speed   Time    Time     Time  Current\n",
      "                                 Dload  Upload   Total   Spent    Left  Speed\n",
      "\r",
      "  0     0    0     0    0     0      0      0 --:--:-- --:--:-- --:--:--     0\r",
      "100 40045    0   863  100 39182   1410  64022 --:--:-- --:--:-- --:--:-- 65540\n"
     ]
    }
   ],
   "source": [
    "%%bash\n",
    "\n",
    "# load the image data as base64\n",
    "imgData=\"$(cat ../Data/Images/Border.jpg | base64)\"\n",
    "\n",
    "generatePostData()\n",
    "{\n",
    "    cat <<EOF\n",
    "{\n",
    "  \"payload\": {\n",
    "    \"image\": {\n",
    "      \"imageBytes\": \"$imgData\"\n",
    "    }\n",
    "  }\n",
    "}\n",
    "EOF\n",
    "}\n",
    "\n",
    "curl -X POST \\\n",
    "    -H \"Authorization: Bearer \"$(gcloud auth application-default print-access-token) \\\n",
    "    -H \"Content-Type: application/json; charset=utf-8\" \\\n",
    "    -d \"$(generatePostData)\" \\\n",
    "    https://automl.googleapis.com/v1beta1/projects/640034225016/locations/us-central1/models/IOD1789496955647295488:predict\n"
   ]
  },
  {
   "cell_type": "markdown",
   "metadata": {},
   "source": [
    "### This is the image we are using\n",
    "\n",
    "![Border](../Data/Images/Border.jpg)"
   ]
  },
  {
   "cell_type": "code",
   "execution_count": 3,
   "metadata": {},
   "outputs": [
    {
     "name": "stdout",
     "output_type": "stream",
     "text": [
      "{\n",
      "  \"payload\": [\n",
      "    {\n",
      "      \"annotationSpecId\": \"4125922880787578880\",\n",
      "      \"imageObjectDetection\": {\n",
      "        \"boundingBox\": {\n",
      "          \"normalizedVertices\": [\n",
      "            {\n",
      "              \"y\": 0.03841746\n",
      "            },\n",
      "            {\n",
      "              \"x\": 0.8891037,\n",
      "              \"y\": 0.9837359\n",
      "            }\n",
      "          ]\n",
      "        },\n",
      "        \"score\": 0.9838028\n",
      "      },\n",
      "      \"displayName\": \"Lab\"\n",
      "    }\n",
      "  ]\n",
      "}\n"
     ]
    },
    {
     "name": "stderr",
     "output_type": "stream",
     "text": [
      "  % Total    % Received % Xferd  Average Speed   Time    Time     Time  Current\n",
      "                                 Dload  Upload   Total   Spent    Left  Speed\n",
      "\r",
      "  0     0    0     0    0     0      0      0 --:--:-- --:--:-- --:--:--     0\r",
      "100 40257    0   407  100 39850    948  92890 --:--:-- --:--:-- --:--:-- 93839\n"
     ]
    }
   ],
   "source": [
    "%%bash\n",
    "\n",
    "# load the image data as base64\n",
    "imgData=\"$(cat ../Data/Images/Lab.jpg | base64)\"\n",
    "\n",
    "generatePostData()\n",
    "{\n",
    "    cat <<EOF\n",
    "{\n",
    "  \"payload\": {\n",
    "    \"image\": {\n",
    "      \"imageBytes\": \"$imgData\"\n",
    "    }\n",
    "  }\n",
    "}\n",
    "EOF\n",
    "}\n",
    "\n",
    "curl -X POST \\\n",
    "    -H \"Authorization: Bearer \"$(gcloud auth application-default print-access-token) \\\n",
    "    -H \"Content-Type: application/json; charset=utf-8\" \\\n",
    "    -d \"$(generatePostData)\" \\\n",
    "    https://automl.googleapis.com/v1beta1/projects/640034225016/locations/us-central1/models/IOD1789496955647295488:predict\n"
   ]
  },
  {
   "cell_type": "markdown",
   "metadata": {},
   "source": [
    "### This is the image we are using\n",
    "\n",
    "![Lab](../Data/Images/Lab.jpg)"
   ]
  },
  {
   "cell_type": "code",
   "execution_count": null,
   "metadata": {},
   "outputs": [],
   "source": []
  }
 ],
 "metadata": {
  "kernelspec": {
   "display_name": "Python 3",
   "language": "python",
   "name": "python3"
  },
  "language_info": {
   "codemirror_mode": {
    "name": "ipython",
    "version": 3
   },
   "file_extension": ".py",
   "mimetype": "text/x-python",
   "name": "python",
   "nbconvert_exporter": "python",
   "pygments_lexer": "ipython3",
   "version": "3.7.9"
  }
 },
 "nbformat": 4,
 "nbformat_minor": 4
}
